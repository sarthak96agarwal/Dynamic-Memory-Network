{
  "nbformat": 4,
  "nbformat_minor": 0,
  "metadata": {
    "colab": {
      "name": "Dynamic Memory Question Answering.ipynb",
      "version": "0.3.2",
      "provenance": []
    },
    "kernelspec": {
      "name": "python3",
      "display_name": "Python 3"
    },
    "accelerator": "GPU"
  },
  "cells": [
    {
      "metadata": {
        "id": "V-jKk_dDUBEf",
        "colab_type": "code",
        "outputId": "299a5399-be69-4992-d652-88e80ef55615",
        "colab": {
          "base_uri": "https://localhost:8080/",
          "height": 136
        }
      },
      "cell_type": "code",
      "source": [
        "!pip3 install http://download.pytorch.org/whl/cu80/torch-0.3.0.post4-cp36-cp36m-linux_x86_64.whl"
      ],
      "execution_count": 1,
      "outputs": [
        {
          "output_type": "stream",
          "text": [
            "Collecting torch==0.3.0.post4 from http://download.pytorch.org/whl/cu80/torch-0.3.0.post4-cp36-cp36m-linux_x86_64.whl\n",
            "\u001b[?25l  Downloading http://download.pytorch.org/whl/cu80/torch-0.3.0.post4-cp36-cp36m-linux_x86_64.whl (592.3MB)\n",
            "\u001b[K    100% |████████████████████████████████| 592.3MB 62.0MB/s \n",
            "\u001b[?25hRequirement already satisfied: pyyaml in /usr/local/lib/python3.6/dist-packages (from torch==0.3.0.post4) (3.13)\n",
            "Requirement already satisfied: numpy in /usr/local/lib/python3.6/dist-packages (from torch==0.3.0.post4) (1.14.6)\n",
            "Installing collected packages: torch\n",
            "Successfully installed torch-0.3.0.post4\n"
          ],
          "name": "stdout"
        }
      ]
    },
    {
      "metadata": {
        "id": "GHqS28csU-NM",
        "colab_type": "code",
        "outputId": "aa8bf62a-066c-41c4-aae6-543c989f67cb",
        "colab": {
          "base_uri": "https://localhost:8080/",
          "height": 292
        }
      },
      "cell_type": "code",
      "source": [
        "!pip3 install torchvision"
      ],
      "execution_count": 2,
      "outputs": [
        {
          "output_type": "stream",
          "text": [
            "Collecting torchvision\n",
            "\u001b[?25l  Downloading https://files.pythonhosted.org/packages/ca/0d/f00b2885711e08bd71242ebe7b96561e6f6d01fdb4b9dcf4d37e2e13c5e1/torchvision-0.2.1-py2.py3-none-any.whl (54kB)\n",
            "\u001b[K    100% |████████████████████████████████| 61kB 2.9MB/s \n",
            "\u001b[?25hRequirement already satisfied: torch in /usr/local/lib/python3.6/dist-packages (from torchvision) (0.3.0.post4)\n",
            "Requirement already satisfied: numpy in /usr/local/lib/python3.6/dist-packages (from torchvision) (1.14.6)\n",
            "Collecting pillow>=4.1.1 (from torchvision)\n",
            "\u001b[?25l  Downloading https://files.pythonhosted.org/packages/85/5e/e91792f198bbc5a0d7d3055ad552bc4062942d27eaf75c3e2783cf64eae5/Pillow-5.4.1-cp36-cp36m-manylinux1_x86_64.whl (2.0MB)\n",
            "\u001b[K    100% |████████████████████████████████| 2.0MB 12.4MB/s \n",
            "\u001b[?25hRequirement already satisfied: six in /usr/local/lib/python3.6/dist-packages (from torchvision) (1.11.0)\n",
            "Requirement already satisfied: pyyaml in /usr/local/lib/python3.6/dist-packages (from torch->torchvision) (3.13)\n",
            "Installing collected packages: pillow, torchvision\n",
            "  Found existing installation: Pillow 4.0.0\n",
            "    Uninstalling Pillow-4.0.0:\n",
            "      Successfully uninstalled Pillow-4.0.0\n",
            "Successfully installed pillow-5.4.1 torchvision-0.2.1\n"
          ],
          "name": "stdout"
        }
      ]
    },
    {
      "metadata": {
        "id": "BqNQIqzJo8al",
        "colab_type": "code",
        "colab": {}
      },
      "cell_type": "code",
      "source": [
        "import torch\n",
        "import torch.nn as nn\n",
        "from torch.autograd import Variable\n",
        "import torch.optim as optim\n",
        "import torch.nn.functional as F\n",
        "import nltk\n",
        "import random\n",
        "import numpy as np\n",
        "from collections import Counter, OrderedDict\n",
        "import nltk\n",
        "from copy import deepcopy\n",
        "import os\n",
        "import re\n",
        "import unicodedata\n",
        "flatten = lambda l: [item for sublist in l for item in sublist]\n",
        "\n",
        "from torch.nn.utils.rnn import PackedSequence, pack_padded_sequence\n",
        "random.seed(1024)"
      ],
      "execution_count": 0,
      "outputs": []
    },
    {
      "metadata": {
        "id": "w3LUEFds8FAQ",
        "colab_type": "code",
        "colab": {}
      },
      "cell_type": "code",
      "source": [
        "USE_CUDA = torch.cuda.is_available()\n",
        "gpus = [0]\n",
        "torch.cuda.set_device(gpus[0])\n",
        "\n",
        "FloatTensor = torch.cuda.FloatTensor if USE_CUDA else torch.FloatTensor\n",
        "LongTensor = torch.cuda.LongTensor if USE_CUDA else torch.LongTensor\n",
        "ByteTensor = torch.cuda.ByteTensor if USE_CUDA else torch.ByteTensor"
      ],
      "execution_count": 0,
      "outputs": []
    },
    {
      "metadata": {
        "id": "L0ITNXyLv3hD",
        "colab_type": "code",
        "colab": {}
      },
      "cell_type": "code",
      "source": [
        "def getBatch(batch_size, train_data):\n",
        "    random.shuffle(train_data)\n",
        "    sindex=0\n",
        "    eindex=batch_size\n",
        "    while eindex < len(train_data):\n",
        "        batch = train_data[sindex: eindex]\n",
        "        temp = eindex\n",
        "        eindex = eindex + batch_size\n",
        "        sindex = temp\n",
        "        yield batch\n",
        "    \n",
        "    if eindex >= len(train_data):\n",
        "        batch = train_data[sindex:]\n",
        "        yield batch"
      ],
      "execution_count": 0,
      "outputs": []
    },
    {
      "metadata": {
        "id": "_R0RHai1v86F",
        "colab_type": "code",
        "colab": {}
      },
      "cell_type": "code",
      "source": [
        "def pad_to_batch(batch, w_to_ix): \n",
        "    fact,q,a = list(zip(*batch))\n",
        "    max_fact = max([len(f) for f in fact])\n",
        "    max_len = max([f.size(1) for f in flatten(fact)])\n",
        "    max_q = max([qq.size(1) for qq in q])\n",
        "    max_a = max([aa.size(1) for aa in a])\n",
        "    \n",
        "    facts, fact_masks, q_p, a_p = [], [], [], []\n",
        "    for i in range(len(batch)):\n",
        "        fact_p_t = []\n",
        "        for j in range(len(fact[i])):\n",
        "            if fact[i][j].size(1) < max_len:\n",
        "                fact_p_t.append(torch.cat([fact[i][j], Variable(LongTensor([w_to_ix['<PAD>']] * (max_len - fact[i][j].size(1)))).view(1, -1)], 1))\n",
        "            else:\n",
        "                fact_p_t.append(fact[i][j])\n",
        "\n",
        "        while len(fact_p_t) < max_fact:\n",
        "            fact_p_t.append(Variable(LongTensor([w_to_ix['<PAD>']] * max_len)).view(1, -1))\n",
        "\n",
        "        fact_p_t = torch.cat(fact_p_t)\n",
        "        facts.append(fact_p_t)\n",
        "        fact_masks.append(torch.cat([Variable(ByteTensor(tuple(map(lambda s: s ==0, t.data))), volatile=False) for t in fact_p_t]).view(fact_p_t.size(0), -1))\n",
        "\n",
        "        if q[i].size(1) < max_q:\n",
        "            q_p.append(torch.cat([q[i], Variable(LongTensor([w_to_ix['<PAD>']] * (max_q - q[i].size(1)))).view(1, -1)], 1))\n",
        "        else:\n",
        "            q_p.append(q[i])\n",
        "\n",
        "        if a[i].size(1) < max_a:\n",
        "            a_p.append(torch.cat([a[i], Variable(LongTensor([w_to_ix['<PAD>']] * (max_a - a[i].size(1)))).view(1, -1)], 1))\n",
        "        else:\n",
        "            a_p.append(a[i])\n",
        "\n",
        "    questions = torch.cat(q_p)\n",
        "    answers = torch.cat(a_p)\n",
        "    question_masks = torch.cat([Variable(ByteTensor(tuple(map(lambda s: s ==0, t.data))), volatile=False) for t in questions]).view(questions.size(0), -1)\n",
        "    \n",
        "    return facts, fact_masks, questions, question_masks, answers"
      ],
      "execution_count": 0,
      "outputs": []
    },
    {
      "metadata": {
        "id": "ACmzoIUXwCZF",
        "colab_type": "code",
        "colab": {}
      },
      "cell_type": "code",
      "source": [
        "def prepare_sequence(seq, to_index):\n",
        "    idxs = list(map(lambda w: to_index[w] if to_index.get(w) is not None else to_index[\"<UNK>\"], seq))\n",
        "    return Variable(LongTensor(idxs))"
      ],
      "execution_count": 0,
      "outputs": []
    },
    {
      "metadata": {
        "id": "2DIgHls_VAAI",
        "colab_type": "code",
        "colab": {}
      },
      "cell_type": "code",
      "source": [
        "data = open('qa5_three-arg-relations_train.txt').readlines()\n",
        "data = [d[:-1] for d in data]\n",
        "train_data = []\n",
        "fact=[]\n",
        "qa=[]\n",
        "for d in data:\n",
        "    index=d.split(' ')[0]\n",
        "    if(index=='1'):\n",
        "        fact=[]\n",
        "        qa=[]\n",
        "    if('?' in d):\n",
        "        temp = d.split('\\t')\n",
        "        ques = temp[0].strip().replace('?', '').split(' ')[1:] + ['?']\n",
        "        ans=temp[1].split() + ['</s>']\n",
        "        temp_s = deepcopy(fact)\n",
        "        train_data.append([temp_s, ques, ans])\n",
        "    else:\n",
        "        fact.append(d.replace('.', '').split(' ')[1:] + ['</s>'])"
      ],
      "execution_count": 0,
      "outputs": []
    },
    {
      "metadata": {
        "id": "zhGFsBR1VlB6",
        "colab_type": "code",
        "colab": {}
      },
      "cell_type": "code",
      "source": [
        "fact,q,a = list(zip(*train_data))\n",
        "vocab = list(set(flatten(flatten(fact)) + flatten(q) + flatten(a)))"
      ],
      "execution_count": 0,
      "outputs": []
    },
    {
      "metadata": {
        "id": "dhBJPW0FVnZK",
        "colab_type": "code",
        "colab": {}
      },
      "cell_type": "code",
      "source": [
        "word_to_index={'<PAD>': 0, '<UNK>': 1, '<s>': 2, '</s>': 3}\n",
        "for vo in vocab:\n",
        "    if word_to_index.get(vo) is None:\n",
        "        word_to_index[vo] = len(word_to_index)\n",
        "index_to_word = {v:k for k, v in word_to_index.items()}"
      ],
      "execution_count": 0,
      "outputs": []
    },
    {
      "metadata": {
        "id": "a-HDq4F2u_zp",
        "colab_type": "code",
        "colab": {}
      },
      "cell_type": "code",
      "source": [
        "for s in train_data:\n",
        "    for i, fact in enumerate(s[0]):\n",
        "        s[0][i] = prepare_sequence(fact, word_to_index).view(1, -1)\n",
        "    s[1] = prepare_sequence(s[1], word_to_index).view(1, -1)\n",
        "    s[2] = prepare_sequence(s[2], word_to_index).view(1, -1)"
      ],
      "execution_count": 0,
      "outputs": []
    },
    {
      "metadata": {
        "id": "Zqb_jf4R9OhG",
        "colab_type": "code",
        "colab": {}
      },
      "cell_type": "code",
      "source": [
        "class DMN(nn.Module):\n",
        "    def __init__(self, input_size, hidden_size, output_size, dropout_p=0.1):\n",
        "        super(DMN, self).__init__()\n",
        "        \n",
        "        self.hidden_size=hidden_size\n",
        "        \n",
        "        self.embedding = nn.Embedding(input_size, hidden_size)\n",
        "        self.fact_gru = nn.GRU(hidden_size, hidden_size, batch_first=True)\n",
        "        self.ques_gru = nn.GRU(hidden_size, hidden_size, batch_first=True)\n",
        "        self.attn_weights = nn.Sequential(nn.Linear(4*hidden_size, hidden_size), nn.Tanh(), nn.Linear(hidden_size, 1), nn.Softmax())\n",
        "        \n",
        "        self.epsisodic_grucell = nn.GRUCell(hidden_size, hidden_size)\n",
        "        self.memory_grucell = nn.GRUCell(hidden_size, hidden_size)\n",
        "        self.ans_grucell = nn.GRUCell(2*hidden_size, hidden_size)\n",
        "        \n",
        "        self.ans_fc = nn.Linear(hidden_size, output_size)\n",
        "        \n",
        "        self.dropout = nn.Dropout(dropout_p)\n",
        "    \n",
        "    def init_hidden(self, inputs):\n",
        "        hidden = Variable(torch.zeros(1, inputs.size(0), self.hidden_size))\n",
        "        return hidden.cuda() if USE_CUDA else hidden\n",
        "    \n",
        "    def init_weight(self):\n",
        "        nn.init.xavier_uniform(self.embedding.state_dict()['weight'])\n",
        "\n",
        "        for name, param in self.fact_gru.state_dict().items():\n",
        "            if 'weight' in name: nn.init.xavier_normal(param)\n",
        "        for name, param in self.ques_gru.state_dict().items():\n",
        "            if 'weight' in name: nn.init.xavier_normal(param)\n",
        "        for name, param in self.attn_weights.state_dict().items():\n",
        "            if 'weight' in name: nn.init.xavier_normal(param)\n",
        "        for name, param in self.epsisodic_grucell.state_dict().items():\n",
        "            if 'weight' in name: nn.init.xavier_normal(param)\n",
        "        for name, param in self.memory_grucell.state_dict().items():\n",
        "            if 'weight' in name: nn.init.xavier_normal(param)\n",
        "        for name, param in self.ans_grucell.state_dict().items():\n",
        "            if 'weight' in name: nn.init.xavier_normal(param)\n",
        "\n",
        "        nn.init.xavier_normal(self.ans_fc.state_dict()['weight'])\n",
        "        self.ans_fc.bias.data.fill_(0)\n",
        "        \n",
        "    def forward(self, facts, facts_masks, question, question_masks, num_decode, episodes=3, is_training=True):\n",
        "        #input module\n",
        "        concated=[]\n",
        "        for fact, fact_mask in zip(facts, facts_masks):\n",
        "            embedded = self.embedding(fact)\n",
        "            if(is_training):\n",
        "                embedded = self.dropout(embedded)\n",
        "            hidden = self.init_hidden(fact)\n",
        "            output, hidden = self.fact_gru(embedded, hidden)\n",
        "            hidden_real = []\n",
        "            for i, o in enumerate(output):\n",
        "                length = fact_mask[i].data.tolist().count(0)\n",
        "                hidden_real.append(o[length-1])\n",
        "            concated.append(torch.cat(hidden_real).view(fact.size(0), -1).unsqueeze(0)) \n",
        "        encoded_facts = torch.cat(concated)\n",
        "        #question module\n",
        "        hidden=self.init_hidden(question)\n",
        "       \n",
        "        embedded = self.embedding(question)\n",
        "        if(is_training):\n",
        "                embedded = self.dropout(embedded)\n",
        "        output, hidden = self.ques_gru(embedded, hidden)\n",
        "\n",
        "        if is_training == True:\n",
        "            real_question = []\n",
        "            for i, o in enumerate(output): # B,T,D\n",
        "                real_length = question_masks[i].data.tolist().count(0)\n",
        "\n",
        "                real_question.append(o[real_length - 1])\n",
        "\n",
        "            encoded_question = torch.cat(real_question).view(questions.size(0), -1) # B,D\n",
        "        else: # for inference mode\n",
        "            encoded_question = hidden.squeeze(0) # B,D\n",
        "            \n",
        "        #episodic memory module\n",
        "        \n",
        "        memory = encoded_question\n",
        "        T_C = encoded_facts.size(1)\n",
        "        B = encoded_facts.size(0)\n",
        "        for i in range(episodes):\n",
        "            hidden = self.init_hidden(encoded_facts.transpose(0, 1)[0]).squeeze(0) # B,D\n",
        "            for t in range(T_C):\n",
        "               \n",
        "                z = torch.cat([\n",
        "                                    encoded_facts.transpose(0, 1)[t] * encoded_question, # B,D , element-wise product\n",
        "                                    encoded_facts.transpose(0, 1)[t] * memory, # B,D , element-wise product\n",
        "                                    torch.abs(encoded_facts.transpose(0,1)[t] - encoded_question), # B,D\n",
        "                                    torch.abs(encoded_facts.transpose(0,1)[t] - memory) # B,D\n",
        "                                ], 1)\n",
        "                g_t = self.attn_weights(z) # B,1 scalar\n",
        "                hidden = g_t * self.epsisodic_grucell(encoded_facts.transpose(0, 1)[t], hidden) + (1 - g_t) * hidden\n",
        "                \n",
        "            e = hidden\n",
        "            memory = self.memory_grucell(e, memory)\n",
        "        \n",
        "        # Answer Module\n",
        "        answer_hidden = memory\n",
        "        start_decode = Variable(LongTensor([[word_to_index['<s>']] * memory.size(0)])).transpose(0, 1)\n",
        "        y_t_1 = self.embedding(start_decode).squeeze(1) # B,D\n",
        "        \n",
        "        decodes = []\n",
        "        for t in range(num_decode):\n",
        "            answer_hidden = self.ans_grucell(torch.cat([y_t_1, encoded_question], 1), answer_hidden)\n",
        "            decodes.append(F.log_softmax(self.ans_fc(answer_hidden),1))\n",
        "        return torch.cat(decodes, 1).view(B * num_decode, -1)"
      ],
      "execution_count": 0,
      "outputs": []
    },
    {
      "metadata": {
        "id": "TOllKVADVuPD",
        "colab_type": "code",
        "colab": {}
      },
      "cell_type": "code",
      "source": [
        "HIDDEN_SIZE = 80\n",
        "BATCH_SIZE = 64\n",
        "LR = 0.001\n",
        "EPOCH = 50\n",
        "NUM_EPISODE = 3\n",
        "EARLY_STOPPING = False"
      ],
      "execution_count": 0,
      "outputs": []
    },
    {
      "metadata": {
        "id": "B7Wxpgn0hbx9",
        "colab_type": "code",
        "colab": {}
      },
      "cell_type": "code",
      "source": [
        "model = DMN(len(word_to_index), HIDDEN_SIZE, len(word_to_index))\n",
        "model.init_weight()\n",
        "if USE_CUDA:\n",
        "    model = model.cuda()\n",
        "\n",
        "loss_function = nn.CrossEntropyLoss(ignore_index=0)\n",
        "optimizer = optim.Adam(model.parameters(), lr=LR)"
      ],
      "execution_count": 0,
      "outputs": []
    },
    {
      "metadata": {
        "id": "rSEy0baKjPGF",
        "colab_type": "code",
        "outputId": "2a8c4f1c-fb61-4409-b951-b238ed076004",
        "colab": {
          "base_uri": "https://localhost:8080/",
          "height": 989
        }
      },
      "cell_type": "code",
      "source": [
        " for epoch in range(EPOCH):\n",
        "    losses = []\n",
        "    if EARLY_STOPPING: \n",
        "        break\n",
        "        \n",
        "    for i,batch in enumerate(getBatch(BATCH_SIZE, train_data)):\n",
        "        facts, fact_masks, questions, question_masks, answers = pad_to_batch(batch, word_to_index)\n",
        "        \n",
        "        model.zero_grad()\n",
        "        pred = model(facts, fact_masks, questions, question_masks, answers.size(1), NUM_EPISODE, True)\n",
        "        loss = loss_function(pred, answers.view(-1))\n",
        "        losses.append(loss.data.tolist()[0])\n",
        "        \n",
        "        loss.backward()\n",
        "        optimizer.step()\n",
        "        \n",
        "        if i % 100 == 0:\n",
        "            print(\"[%d/%d] mean_loss : %0.2f\" %(epoch, EPOCH, np.mean(losses)))\n",
        "            \n",
        "            if np.mean(losses) < 0.01:\n",
        "                EARLY_STOPPING = True\n",
        "                print(\"Early Stopping!\")\n",
        "                break\n",
        "            losses = []"
      ],
      "execution_count": 57,
      "outputs": [
        {
          "output_type": "stream",
          "text": [
            "/usr/local/lib/python3.6/dist-packages/torch/nn/modules/container.py:67: UserWarning: Implicit dimension choice for softmax has been deprecated. Change the call to include dim=X as an argument.\n",
            "  input = module(input)\n"
          ],
          "name": "stderr"
        },
        {
          "output_type": "stream",
          "text": [
            "[0/50] mean_loss : 3.83\n",
            "[0/50] mean_loss : 1.29\n",
            "[1/50] mean_loss : 0.69\n",
            "[1/50] mean_loss : 0.65\n",
            "[2/50] mean_loss : 0.65\n",
            "[2/50] mean_loss : 0.65\n",
            "[3/50] mean_loss : 0.65\n",
            "[3/50] mean_loss : 0.65\n",
            "[4/50] mean_loss : 0.63\n",
            "[4/50] mean_loss : 0.63\n",
            "[5/50] mean_loss : 0.61\n",
            "[5/50] mean_loss : 0.62\n",
            "[6/50] mean_loss : 0.61\n",
            "[6/50] mean_loss : 0.62\n",
            "[7/50] mean_loss : 0.61\n",
            "[7/50] mean_loss : 0.62\n",
            "[8/50] mean_loss : 0.60\n",
            "[8/50] mean_loss : 0.61\n",
            "[9/50] mean_loss : 0.59\n",
            "[9/50] mean_loss : 0.61\n",
            "[10/50] mean_loss : 0.51\n",
            "[10/50] mean_loss : 0.49\n",
            "[11/50] mean_loss : 0.39\n",
            "[11/50] mean_loss : 0.39\n",
            "[12/50] mean_loss : 0.35\n",
            "[12/50] mean_loss : 0.39\n",
            "[13/50] mean_loss : 0.40\n",
            "[13/50] mean_loss : 0.36\n",
            "[14/50] mean_loss : 0.29\n",
            "[14/50] mean_loss : 0.31\n",
            "[15/50] mean_loss : 0.33\n",
            "[15/50] mean_loss : 0.30\n",
            "[16/50] mean_loss : 0.29\n",
            "[16/50] mean_loss : 0.27\n",
            "[17/50] mean_loss : 0.24\n",
            "[17/50] mean_loss : 0.18\n",
            "[18/50] mean_loss : 0.13\n",
            "[18/50] mean_loss : 0.15\n",
            "[19/50] mean_loss : 0.16\n",
            "[19/50] mean_loss : 0.14\n",
            "[20/50] mean_loss : 0.12\n",
            "[20/50] mean_loss : 0.14\n",
            "[21/50] mean_loss : 0.17\n",
            "[21/50] mean_loss : 0.14\n",
            "[22/50] mean_loss : 0.12\n",
            "[22/50] mean_loss : 0.14\n",
            "[23/50] mean_loss : 0.17\n",
            "[23/50] mean_loss : 0.13\n",
            "[24/50] mean_loss : 0.08\n",
            "[24/50] mean_loss : 0.08\n",
            "[25/50] mean_loss : 0.03\n",
            "[25/50] mean_loss : 0.03\n",
            "[26/50] mean_loss : 0.01\n",
            "Early Stopping!\n"
          ],
          "name": "stdout"
        }
      ]
    },
    {
      "metadata": {
        "id": "cL8hWml6eW-H",
        "colab_type": "code",
        "colab": {
          "base_uri": "https://localhost:8080/",
          "height": 71
        },
        "outputId": "453ac8cc-dc89-4002-8dcb-5f6eea1b8c75"
      },
      "cell_type": "code",
      "source": [
        "torch.save(model, 'DMN.pkl')\n",
        "# Uncomment to load the existing model\n",
        "# model = torch.load('DMN.pkl')"
      ],
      "execution_count": 58,
      "outputs": [
        {
          "output_type": "stream",
          "text": [
            "/usr/local/lib/python3.6/dist-packages/torch/serialization.py:158: UserWarning: Couldn't retrieve source code for container of type DMN. It won't be checked for correctness upon loading.\n",
            "  \"type \" + obj.__name__ + \". It won't be checked \"\n"
          ],
          "name": "stderr"
        }
      ]
    },
    {
      "metadata": {
        "id": "JuBcta9UWGbC",
        "colab_type": "code",
        "colab": {}
      },
      "cell_type": "code",
      "source": [
        "def pad_to_fact(fact, x_to_ix): # this is for inference\n",
        "    \n",
        "    max_x = max([s.size(1) for s in fact])\n",
        "    x_p = []\n",
        "    for i in range(len(fact)):\n",
        "        if fact[i].size(1) < max_x:\n",
        "            x_p.append(torch.cat([fact[i], Variable(LongTensor([x_to_ix['<PAD>']] * (max_x - fact[i].size(1)))).view(1, -1)], 1))\n",
        "        else:\n",
        "            x_p.append(fact[i])\n",
        "        \n",
        "    fact = torch.cat(x_p)\n",
        "    fact_mask = torch.cat([Variable(ByteTensor(tuple(map(lambda s: s ==0, t.data))), volatile=False) for t in fact]).view(fact.size(0), -1)\n",
        "    return fact, fact_mask"
      ],
      "execution_count": 0,
      "outputs": []
    },
    {
      "metadata": {
        "id": "XH9JmA32D7rf",
        "colab_type": "code",
        "colab": {}
      },
      "cell_type": "code",
      "source": [
        "data = open('qa5_three-arg-relations_test.txt').readlines()\n",
        "data = [d[:-1] for d in data]\n",
        "test_data = []\n",
        "fact=[]\n",
        "qa=[]\n",
        "for d in data:\n",
        "    index=d.split(' ')[0]\n",
        "    if(index=='1'):\n",
        "        fact=[]\n",
        "        qa=[]\n",
        "    if('?' in d):\n",
        "        temp = d.split('\\t')\n",
        "        ques = temp[0].strip().replace('?', '').split(' ')[1:] + ['?']\n",
        "        ans=temp[1].split() + ['</s>']\n",
        "        temp_s = deepcopy(fact)\n",
        "        test_data.append([temp_s, ques, ans])\n",
        "    else:\n",
        "        fact.append(d.replace('.', '').split(' ')[1:] + ['</s>'])"
      ],
      "execution_count": 0,
      "outputs": []
    },
    {
      "metadata": {
        "id": "Gsnakk8REJiR",
        "colab_type": "code",
        "colab": {}
      },
      "cell_type": "code",
      "source": [
        "for t in test_data:\n",
        "    for i, fact in enumerate(t[0]):\n",
        "        t[0][i] = prepare_sequence(fact, word_to_index).view(1, -1)\n",
        "    \n",
        "    t[1] = prepare_sequence(t[1], word_to_index).view(1, -1)\n",
        "    t[2] = prepare_sequence(t[2], word_to_index).view(1, -1)"
      ],
      "execution_count": 0,
      "outputs": []
    },
    {
      "metadata": {
        "id": "Pepe8t7AEQm0",
        "colab_type": "code",
        "colab": {
          "base_uri": "https://localhost:8080/",
          "height": 88
        },
        "outputId": "57ba4deb-03ca-428e-c07b-ca751f87569d"
      },
      "cell_type": "code",
      "source": [
        "accuracy = 0\n",
        "for t in test_data:\n",
        "    fact, fact_mask = pad_to_fact(t[0], word_to_index)\n",
        "    question = t[1]\n",
        "    question_mask = Variable(ByteTensor([0] * t[1].size(1)), requires_grad=False).unsqueeze(0)\n",
        "    answer = t[2].squeeze(0)\n",
        "    \n",
        "    model.zero_grad()\n",
        "    pred = model([fact], [fact_mask], question, question_mask, answer.size(0), NUM_EPISODE, False)\n",
        "    if pred.max(1)[1].data.tolist() == answer.data.tolist():\n",
        "        accuracy += 1\n",
        "\n",
        "print(accuracy/len(test_data) * 100)"
      ],
      "execution_count": 62,
      "outputs": [
        {
          "output_type": "stream",
          "text": [
            "/usr/local/lib/python3.6/dist-packages/torch/nn/modules/container.py:67: UserWarning: Implicit dimension choice for softmax has been deprecated. Change the call to include dim=X as an argument.\n",
            "  input = module(input)\n"
          ],
          "name": "stderr"
        },
        {
          "output_type": "stream",
          "text": [
            "97.89999999999999\n"
          ],
          "name": "stdout"
        }
      ]
    },
    {
      "metadata": {
        "id": "pHPJ-BgfF8Zl",
        "colab_type": "code",
        "colab": {
          "base_uri": "https://localhost:8080/",
          "height": 547
        },
        "outputId": "f7212b62-2e48-4140-c456-7afcb9ab4ca9"
      },
      "cell_type": "code",
      "source": [
        "t = random.choice(test_data)\n",
        "fact, fact_mask = pad_to_fact(t[0], word_to_index)\n",
        "question = t[1]\n",
        "question_mask = Variable(ByteTensor([0] * t[1].size(1)), requires_grad=False).unsqueeze(0)\n",
        "answer = t[2].squeeze(0)\n",
        "\n",
        "model.zero_grad()\n",
        "pred = model([fact], [fact_mask], question, question_mask, answer.size(0), NUM_EPISODE, False)\n",
        "\n",
        "print(\"Facts : \")\n",
        "print('\\n'.join([' '.join(list(map(lambda x: index_to_word[x],f))) for f in fact.data.tolist()]))\n",
        "print(\"\")\n",
        "print(\"Question : \",' '.join(list(map(lambda x: index_to_word[x], question.data.tolist()[0]))))\n",
        "print(\"\")\n",
        "print(\"Answer : \",' '.join(list(map(lambda x: index_to_word[x], answer.data.tolist()))))\n",
        "print(\"Prediction : \",' '.join(list(map(lambda x: index_to_word[x], pred.max(1)[1].data.tolist()))))"
      ],
      "execution_count": 70,
      "outputs": [
        {
          "output_type": "stream",
          "text": [
            "Facts : \n",
            "Mary moved to the hallway </s> <PAD>\n",
            "Jeff moved to the office </s> <PAD>\n",
            "Jeff grabbed the football there </s> <PAD>\n",
            "Bill moved to the bathroom </s> <PAD>\n",
            "Mary travelled to the bathroom </s> <PAD>\n",
            "Mary went to the kitchen </s> <PAD>\n",
            "Bill travelled to the hallway </s> <PAD>\n",
            "Jeff put down the football </s> <PAD>\n",
            "Mary moved to the bathroom </s> <PAD>\n",
            "Jeff journeyed to the garden </s> <PAD>\n",
            "Jeff travelled to the bathroom </s> <PAD>\n",
            "Fred went to the hallway </s> <PAD>\n",
            "Fred went to the bedroom </s> <PAD>\n",
            "Bill grabbed the milk there </s> <PAD>\n",
            "Fred travelled to the office </s> <PAD>\n",
            "Bill put down the milk </s> <PAD>\n",
            "Fred picked up the football there </s>\n",
            "Bill got the milk there </s> <PAD>\n",
            "Jeff went back to the hallway </s>\n",
            "Bill handed the milk to Jeff </s>\n",
            "Fred travelled to the garden </s> <PAD>\n",
            "Jeff passed the milk to Bill </s>\n",
            "\n",
            "Question :  Who gave the milk to Bill ?\n",
            "\n",
            "Answer :  Jeff </s>\n",
            "Prediction :  Jeff </s>\n"
          ],
          "name": "stdout"
        },
        {
          "output_type": "stream",
          "text": [
            "/usr/local/lib/python3.6/dist-packages/torch/nn/modules/container.py:67: UserWarning: Implicit dimension choice for softmax has been deprecated. Change the call to include dim=X as an argument.\n",
            "  input = module(input)\n"
          ],
          "name": "stderr"
        }
      ]
    },
    {
      "metadata": {
        "id": "iOlv8DHFGbv5",
        "colab_type": "code",
        "colab": {}
      },
      "cell_type": "code",
      "source": [
        ""
      ],
      "execution_count": 0,
      "outputs": []
    }
  ]
}